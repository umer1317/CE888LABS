{
 "cells": [
  {
   "cell_type": "markdown",
   "metadata": {},
   "source": [
    "# Introduction to machine learning with scikit-learn"
   ]
  },
  {
   "cell_type": "markdown",
   "metadata": {},
   "source": [
    "Based on the [scikit-learn documentation](http://scikit-learn.org/stable/tutorial/basic/tutorial.html)"
   ]
  },
  {
   "cell_type": "markdown",
   "metadata": {},
   "source": [
    "## Loading the 'breast cancer' dataset"
   ]
  },
  {
   "cell_type": "markdown",
   "metadata": {},
   "source": [
    "Scikit-learn comes with a few standard datasets, for instance the iris and digits datasets for classification and the Boston house prices dataset for regression."
   ]
  },
  {
   "cell_type": "code",
   "execution_count": 2,
   "metadata": {},
   "outputs": [
    {
     "name": "stdout",
     "output_type": "stream",
     "text": [
      "0.20.1\n"
     ]
    }
   ],
   "source": [
    "import numpy as np\n",
    "import sklearn\n",
    "print(sklearn.__version__)\n",
    "import pandas as pd"
   ]
  },
  {
   "cell_type": "code",
   "execution_count": 3,
   "metadata": {},
   "outputs": [],
   "source": [
    "from sklearn import datasets\n",
    "\n",
    "cancer = datasets.load_breast_cancer()"
   ]
  },
  {
   "cell_type": "markdown",
   "metadata": {},
   "source": [
    "A dataset is a dictionary-like object that holds all the data and some metadata about the data. This data is stored in the `.data` member, which is a `n_samples` by `n_features` array. In the case of supervised problem, one or more response variables are stored in the `.target` member.\n",
    "\n"
   ]
  },
  {
   "cell_type": "code",
   "execution_count": 4,
   "metadata": {},
   "outputs": [
    {
     "data": {
      "text/plain": [
       "dict_keys(['data', 'target', 'target_names', 'DESCR', 'feature_names', 'filename'])"
      ]
     },
     "execution_count": 4,
     "metadata": {},
     "output_type": "execute_result"
    }
   ],
   "source": [
    "cancer.keys()\n"
   ]
  },
  {
   "cell_type": "code",
   "execution_count": 5,
   "metadata": {},
   "outputs": [
    {
     "name": "stdout",
     "output_type": "stream",
     "text": [
      "There are 30 features in this dataset\n",
      "The features are: ['mean radius' 'mean texture' 'mean perimeter' 'mean area'\n",
      " 'mean smoothness' 'mean compactness' 'mean concavity'\n",
      " 'mean concave points' 'mean symmetry' 'mean fractal dimension'\n",
      " 'radius error' 'texture error' 'perimeter error' 'area error'\n",
      " 'smoothness error' 'compactness error' 'concavity error'\n",
      " 'concave points error' 'symmetry error' 'fractal dimension error'\n",
      " 'worst radius' 'worst texture' 'worst perimeter' 'worst area'\n",
      " 'worst smoothness' 'worst compactness' 'worst concavity'\n",
      " 'worst concave points' 'worst symmetry' 'worst fractal dimension']\n"
     ]
    }
   ],
   "source": [
    "n_features = len(cancer.feature_names)\n",
    "print(\"There are %d features in this dataset\" % n_features)\n",
    "print(\"The features are:\", cancer.feature_names)"
   ]
  },
  {
   "cell_type": "markdown",
   "metadata": {},
   "source": [
    "For instance, in the case of the breast cancer dataset, cancer.data gives access to the features that can be used to classify the samples:"
   ]
  },
  {
   "cell_type": "code",
   "execution_count": 6,
   "metadata": {},
   "outputs": [
    {
     "name": "stdout",
     "output_type": "stream",
     "text": [
      "(569, 30)\n",
      "[[1.799e+01 1.038e+01 1.228e+02 ... 2.654e-01 4.601e-01 1.189e-01]\n",
      " [2.057e+01 1.777e+01 1.329e+02 ... 1.860e-01 2.750e-01 8.902e-02]\n",
      " [1.969e+01 2.125e+01 1.300e+02 ... 2.430e-01 3.613e-01 8.758e-02]\n",
      " ...\n",
      " [1.660e+01 2.808e+01 1.083e+02 ... 1.418e-01 2.218e-01 7.820e-02]\n",
      " [2.060e+01 2.933e+01 1.401e+02 ... 2.650e-01 4.087e-01 1.240e-01]\n",
      " [7.760e+00 2.454e+01 4.792e+01 ... 0.000e+00 2.871e-01 7.039e-02]]\n"
     ]
    }
   ],
   "source": [
    "print(cancer.data.shape)\n",
    "print(cancer.data)"
   ]
  },
  {
   "cell_type": "markdown",
   "metadata": {},
   "source": [
    "and `cancer.target` gives the ground truth for the dataset, that is whether the tumor is benign or not:"
   ]
  },
  {
   "cell_type": "code",
   "execution_count": 7,
   "metadata": {},
   "outputs": [
    {
     "name": "stdout",
     "output_type": "stream",
     "text": [
      "(569,)\n",
      "[0 0 0 0 0 0 0 0 0 0 0 0 0 0 0 0 0 0 0 1 1 1 0 0 0 0 0 0 0 0 0 0 0 0 0 0 0\n",
      " 1 0 0 0 0 0 0 0 0 1 0 1 1 1 1 1 0 0 1 0 0 1 1 1 1 0 1 0 0 1 1 1 1 0 1 0 0\n",
      " 1 0 1 0 0 1 1 1 0 0 1 0 0 0 1 1 1 0 1 1 0 0 1 1 1 0 0 1 1 1 1 0 1 1 0 1 1\n",
      " 1 1 1 1 1 1 0 0 0 1 0 0 1 1 1 0 0 1 0 1 0 0 1 0 0 1 1 0 1 1 0 1 1 1 1 0 1\n",
      " 1 1 1 1 1 1 1 1 0 1 1 1 1 0 0 1 0 1 1 0 0 1 1 0 0 1 1 1 1 0 1 1 0 0 0 1 0\n",
      " 1 0 1 1 1 0 1 1 0 0 1 0 0 0 0 1 0 0 0 1 0 1 0 1 1 0 1 0 0 0 0 1 1 0 0 1 1\n",
      " 1 0 1 1 1 1 1 0 0 1 1 0 1 1 0 0 1 0 1 1 1 1 0 1 1 1 1 1 0 1 0 0 0 0 0 0 0\n",
      " 0 0 0 0 0 0 0 1 1 1 1 1 1 0 1 0 1 1 0 1 1 0 1 0 0 1 1 1 1 1 1 1 1 1 1 1 1\n",
      " 1 0 1 1 0 1 0 1 1 1 1 1 1 1 1 1 1 1 1 1 1 0 1 1 1 0 1 0 1 1 1 1 0 0 0 1 1\n",
      " 1 1 0 1 0 1 0 1 1 1 0 1 1 1 1 1 1 1 0 0 0 1 1 1 1 1 1 1 1 1 1 1 0 0 1 0 0\n",
      " 0 1 0 0 1 1 1 1 1 0 1 1 1 1 1 0 1 1 1 0 1 1 0 0 1 1 1 1 1 1 0 1 1 1 1 1 1\n",
      " 1 0 1 1 1 1 1 0 1 1 0 1 1 1 1 1 1 1 1 1 1 1 1 0 1 0 0 1 0 1 1 1 1 1 0 1 1\n",
      " 0 1 0 1 1 0 1 0 1 1 1 1 1 1 1 1 0 0 1 1 1 1 1 1 0 1 1 1 1 1 1 1 1 1 1 0 1\n",
      " 1 1 1 1 1 1 0 1 0 1 1 0 1 1 1 1 1 0 0 1 0 1 0 1 1 1 1 1 0 1 1 0 1 0 1 0 0\n",
      " 1 1 1 0 1 1 1 1 1 1 1 1 1 1 1 0 1 0 0 1 1 1 1 1 1 1 1 1 1 1 1 1 1 1 1 1 1\n",
      " 1 1 1 1 1 1 1 0 0 0 0 0 0 1]\n",
      "['malignant' 'benign']\n"
     ]
    }
   ],
   "source": [
    "print(cancer.target.shape)\n",
    "print(cancer.target)\n",
    "print(cancer.target_names)"
   ]
  },
  {
   "cell_type": "markdown",
   "metadata": {},
   "source": [
    "# Visualising the data"
   ]
  },
  {
   "cell_type": "markdown",
   "metadata": {},
   "source": [
    "This is your chance to have a look at the data. Try some of the things from the seaborn/pandas lab session. What's easier for you, to work with this sort of dataset or with a pandas dataframe?"
   ]
  },
  {
   "cell_type": "code",
   "execution_count": 8,
   "metadata": {},
   "outputs": [],
   "source": [
    "import seaborn as sns\n",
    "import matplotlib.pyplot as plt"
   ]
  },
  {
   "cell_type": "code",
   "execution_count": 9,
   "metadata": {},
   "outputs": [
    {
     "name": "stderr",
     "output_type": "stream",
     "text": [
      "/anaconda3/lib/python3.7/site-packages/scipy/stats/stats.py:1713: FutureWarning: Using a non-tuple sequence for multidimensional indexing is deprecated; use `arr[tuple(seq)]` instead of `arr[seq]`. In the future this will be interpreted as an array index, `arr[np.array(seq)]`, which will result either in an error or a different result.\n",
      "  return np.add.reduce(sorted[indexer] * weights, axis=axis) / sumval\n"
     ]
    },
    {
     "data": {
      "text/plain": [
       "Text(336.9714285714286, 0.5, 'mean texture')"
      ]
     },
     "execution_count": 9,
     "metadata": {},
     "output_type": "execute_result"
    },
    {
     "data": {
      "image/png": "[encoded data removed]",
      "text/plain": [
       "<Figure size 432x432 with 3 Axes>"
      ]
     },
     "metadata": {
      "needs_background": "light"
     },
     "output_type": "display_data"
    }
   ],
   "source": [
    "sns.jointplot(cancer.data[:, 0], cancer.data[:, 1])\n",
    "plt.xlabel(cancer.feature_names[0])\n",
    "plt.ylabel(cancer.feature_names[1])\n"
   ]
  },
  {
   "cell_type": "code",
   "execution_count": 10,
   "metadata": {},
   "outputs": [
    {
     "name": "stdout",
     "output_type": "stream",
     "text": [
      "               0           1           2            3           4   \\\n",
      "count  569.000000  569.000000  569.000000   569.000000  569.000000   \n",
      "mean    14.127292   19.289649   91.969033   654.889104    0.096360   \n",
      "std      3.524049    4.301036   24.298981   351.914129    0.014064   \n",
      "min      6.981000    9.710000   43.790000   143.500000    0.052630   \n",
      "25%     11.700000   16.170000   75.170000   420.300000    0.086370   \n",
      "50%     13.370000   18.840000   86.240000   551.100000    0.095870   \n",
      "75%     15.780000   21.800000  104.100000   782.700000    0.105300   \n",
      "max     28.110000   39.280000  188.500000  2501.000000    0.163400   \n",
      "\n",
      "               5           6           7           8           9      ...      \\\n",
      "count  569.000000  569.000000  569.000000  569.000000  569.000000     ...       \n",
      "mean     0.104341    0.088799    0.048919    0.181162    0.062798     ...       \n",
      "std      0.052813    0.079720    0.038803    0.027414    0.007060     ...       \n",
      "min      0.019380    0.000000    0.000000    0.106000    0.049960     ...       \n",
      "25%      0.064920    0.029560    0.020310    0.161900    0.057700     ...       \n",
      "50%      0.092630    0.061540    0.033500    0.179200    0.061540     ...       \n",
      "75%      0.130400    0.130700    0.074000    0.195700    0.066120     ...       \n",
      "max      0.345400    0.426800    0.201200    0.304000    0.097440     ...       \n",
      "\n",
      "               20          21          22           23          24  \\\n",
      "count  569.000000  569.000000  569.000000   569.000000  569.000000   \n",
      "mean    16.269190   25.677223  107.261213   880.583128    0.132369   \n",
      "std      4.833242    6.146258   33.602542   569.356993    0.022832   \n",
      "min      7.930000   12.020000   50.410000   185.200000    0.071170   \n",
      "25%     13.010000   21.080000   84.110000   515.300000    0.116600   \n",
      "50%     14.970000   25.410000   97.660000   686.500000    0.131300   \n",
      "75%     18.790000   29.720000  125.400000  1084.000000    0.146000   \n",
      "max     36.040000   49.540000  251.200000  4254.000000    0.222600   \n",
      "\n",
      "               25          26          27          28          29  \n",
      "count  569.000000  569.000000  569.000000  569.000000  569.000000  \n",
      "mean     0.254265    0.272188    0.114606    0.290076    0.083946  \n",
      "std      0.157336    0.208624    0.065732    0.061867    0.018061  \n",
      "min      0.027290    0.000000    0.000000    0.156500    0.055040  \n",
      "25%      0.147200    0.114500    0.064930    0.250400    0.071460  \n",
      "50%      0.211900    0.226700    0.099930    0.282200    0.080040  \n",
      "75%      0.339100    0.382900    0.161400    0.317900    0.092080  \n",
      "max      1.058000    1.252000    0.291000    0.663800    0.207500  \n",
      "\n",
      "[8 rows x 30 columns]\n",
      "           0         1         2         3         4         5         6   \\\n",
      "0    0.521037  0.022658  0.545989  0.363733  0.593753  0.792037  0.703140   \n",
      "1    0.643144  0.272574  0.615783  0.501591  0.289880  0.181768  0.203608   \n",
      "2    0.601496  0.390260  0.595743  0.449417  0.514309  0.431017  0.462512   \n",
      "3    0.210090  0.360839  0.233501  0.102906  0.811321  0.811361  0.565604   \n",
      "4    0.629893  0.156578  0.630986  0.489290  0.430351  0.347893  0.463918   \n",
      "5    0.258839  0.202570  0.267984  0.141506  0.678613  0.461996  0.369728   \n",
      "6    0.533343  0.347311  0.523875  0.380276  0.379164  0.274891  0.264058   \n",
      "7    0.318472  0.376057  0.320710  0.184263  0.598267  0.445126  0.219447   \n",
      "8    0.284869  0.409537  0.302052  0.159618  0.674099  0.533157  0.435567   \n",
      "9    0.259312  0.484613  0.277659  0.140997  0.595558  0.675480  0.532568   \n",
      "10   0.427801  0.457558  0.407090  0.277540  0.265686  0.145114  0.077296   \n",
      "11   0.416442  0.276632  0.413309  0.270414  0.401462  0.336850  0.233224   \n",
      "12   0.576885  0.510315  0.612328  0.415483  0.404171  0.694497  0.483833   \n",
      "13   0.419755  0.481569  0.414000  0.271135  0.283290  0.247899  0.232849   \n",
      "14   0.319419  0.436253  0.344206  0.184433  0.545906  0.643887  0.498594   \n",
      "15   0.357755  0.602976  0.365835  0.218579  0.553128  0.429790  0.384021   \n",
      "16   0.364381  0.352384  0.352083  0.229480  0.415636  0.161401  0.173266   \n",
      "17   0.433007  0.370984  0.444406  0.277964  0.581114  0.560763  0.403468   \n",
      "18   0.607175  0.420697  0.595743  0.473595  0.412386  0.255567  0.346532   \n",
      "19   0.310426  0.157254  0.301776  0.179343  0.407692  0.189896  0.156139   \n",
      "20   0.288655  0.202908  0.289130  0.159703  0.495351  0.330102  0.107029   \n",
      "21   0.119409  0.092323  0.114367  0.055313  0.449309  0.139685  0.069260   \n",
      "22   0.395617  0.153872  0.405708  0.237922  0.493545  0.595424  0.486645   \n",
      "23   0.671068  0.450795  0.645498  0.534677  0.376004  0.254033  0.257029   \n",
      "24   0.457617  0.394657  0.457536  0.322842  0.536878  0.387461  0.357310   \n",
      "25   0.480808  0.226243  0.498998  0.326278  0.595558  0.638672  0.522259   \n",
      "26   0.359648  0.399729  0.370534  0.212641  0.476393  0.513527  0.333880   \n",
      "27   0.550381  0.356442  0.541151  0.403181  0.377088  0.267530  0.349110   \n",
      "28   0.393724  0.526209  0.405017  0.249799  0.501670  0.461076  0.394330   \n",
      "29   0.501160  0.180588  0.492088  0.344263  0.413830  0.295442  0.231373   \n",
      "..        ...       ...       ...       ...       ...       ...       ...   \n",
      "539  0.033603  0.531958  0.031442  0.011410  0.307394  0.308325  0.216776   \n",
      "540  0.215770  0.159959  0.213254  0.110032  0.426198  0.284093  0.157849   \n",
      "541  0.354442  0.516740  0.359478  0.217561  0.322651  0.317833  0.236410   \n",
      "542  0.367220  0.531282  0.351807  0.222736  0.271915  0.161831  0.096181   \n",
      "543  0.294808  0.620561  0.283947  0.167508  0.307665  0.151494  0.069986   \n",
      "544  0.326045  0.371660  0.317739  0.187190  0.389546  0.252807  0.086410   \n",
      "545  0.314213  0.457220  0.299910  0.182269  0.359574  0.147506  0.069681   \n",
      "546  0.158029  0.224552  0.148711  0.076946  0.376546  0.093737  0.023711   \n",
      "547  0.155190  0.232330  0.152443  0.075207  0.326262  0.187964  0.102109   \n",
      "548  0.127881  0.325668  0.119273  0.060318  0.291415  0.094841  0.054756   \n",
      "549  0.181693  0.490362  0.173450  0.092513  0.264422  0.143059  0.036270   \n",
      "550  0.183587  0.398039  0.170824  0.092047  0.195721  0.070210  0.000000   \n",
      "551  0.196365  0.430504  0.191417  0.099639  0.388463  0.191890  0.113027   \n",
      "552  0.273984  0.666892  0.259554  0.154571  0.272005  0.070425  0.046790   \n",
      "553  0.111316  0.413595  0.105176  0.051113  0.359032  0.112478  0.093627   \n",
      "554  0.279190  0.649645  0.267501  0.157285  0.258193  0.119195  0.145150   \n",
      "555  0.156609  0.605343  0.151199  0.075461  0.340074  0.175449  0.140558   \n",
      "556  0.150457  0.334122  0.144703  0.071347  0.430351  0.170726  0.011774   \n",
      "557  0.115576  0.614474  0.106903  0.054210  0.258193  0.093031  0.000000   \n",
      "558  0.360121  0.438620  0.363486  0.217858  0.289790  0.348506  0.241097   \n",
      "559  0.214350  0.480893  0.212356  0.110286  0.360928  0.253727  0.260544   \n",
      "560  0.334564  0.589787  0.328865  0.193807  0.421233  0.285933  0.104545   \n",
      "561  0.199678  0.664863  0.185751  0.102863  0.197346  0.049690  0.000000   \n",
      "562  0.389938  0.707136  0.411927  0.243224  0.470976  0.580701  0.597470   \n",
      "563  0.659709  0.520122  0.685578  0.510498  0.517017  0.626403  0.743674   \n",
      "564  0.690000  0.428813  0.678668  0.566490  0.526948  0.296055  0.571462   \n",
      "565  0.622320  0.626987  0.604036  0.474019  0.407782  0.257714  0.337395   \n",
      "566  0.455251  0.621238  0.445788  0.303118  0.288165  0.254340  0.216753   \n",
      "567  0.644564  0.663510  0.665538  0.475716  0.588336  0.790197  0.823336   \n",
      "568  0.036869  0.501522  0.028540  0.015907  0.000000  0.074351  0.000000   \n",
      "\n",
      "           7         8         9     ...           20        21        22  \\\n",
      "0    0.731113  0.686364  0.605518    ...     0.620776  0.141525  0.668310   \n",
      "1    0.348757  0.379798  0.141323    ...     0.606901  0.303571  0.539818   \n",
      "2    0.635686  0.509596  0.211247    ...     0.556386  0.360075  0.508442   \n",
      "3    0.522863  0.776263  1.000000    ...     0.248310  0.385928  0.241347   \n",
      "4    0.518390  0.378283  0.186816    ...     0.519744  0.123934  0.506948   \n",
      "5    0.402038  0.518687  0.551179    ...     0.268232  0.312633  0.263908   \n",
      "6    0.367793  0.370707  0.157119    ...     0.531839  0.416844  0.511928   \n",
      "7    0.297465  0.573737  0.517060    ...     0.324795  0.429638  0.299766   \n",
      "8    0.464861  0.651515  0.504002    ...     0.268943  0.498667  0.277852   \n",
      "9    0.424602  0.489899  0.683867    ...     0.254714  0.763859  0.235271   \n",
      "10   0.165159  0.236364  0.147641    ...     0.400569  0.582623  0.365506   \n",
      "11   0.328330  0.394949  0.228728    ...     0.444326  0.406716  0.428756   \n",
      "12   0.555666  0.675253  0.590564    ...     0.463536  0.477612  0.504457   \n",
      "13   0.266600  0.397475  0.072030    ...     0.316969  0.416844  0.306738   \n",
      "14   0.398857  0.509596  0.565712    ...     0.252579  0.532783  0.290801   \n",
      "15   0.366004  0.627778  0.438290    ...     0.339025  0.669243  0.367000   \n",
      "16   0.261382  0.265657  0.195029    ...     0.396300  0.502665  0.363514   \n",
      "17   0.510934  0.557576  0.497051    ...     0.463536  0.518657  0.430251   \n",
      "18   0.472068  0.263636  0.084035    ...     0.689790  0.502665  0.679267   \n",
      "19   0.237624  0.416667  0.162174    ...     0.255425  0.192964  0.245480   \n",
      "20   0.154573  0.458081  0.382266    ...     0.233725  0.225746  0.227501   \n",
      "21   0.103181  0.381313  0.402064    ...     0.081821  0.097015  0.073310   \n",
      "22   0.484891  0.737879  0.428812    ...     0.360726  0.188166  0.371981   \n",
      "23   0.429026  0.358081  0.059393    ...     0.755603  0.628198  0.685243   \n",
      "24   0.455765  0.472222  0.280960    ...     0.659196  0.520789  0.630460   \n",
      "25   0.696322  1.000000  0.509056    ...     0.509427  0.250000  0.507944   \n",
      "26   0.436531  0.602020  0.406066    ...     0.344717  0.564765  0.358534   \n",
      "27   0.384245  0.321717  0.148062    ...     0.475987  0.406183  0.445690   \n",
      "28   0.434940  0.437374  0.325190    ...     0.438990  0.658049  0.492505   \n",
      "29   0.395278  0.342929  0.242839    ...     0.429740  0.199893  0.420788   \n",
      "..        ...       ...       ...    ...          ...       ...       ...   \n",
      "539  0.067793  0.493434  0.580244    ...     0.026610  0.529584  0.020320   \n",
      "540  0.128926  0.382828  0.376158    ...     0.154038  0.204158  0.141292   \n",
      "541  0.193340  0.410101  0.283277    ...     0.294913  0.525320  0.314209   \n",
      "542  0.150447  0.393939  0.144061    ...     0.305229  0.540245  0.283829   \n",
      "543  0.162773  0.286869  0.165333    ...     0.229100  0.670309  0.209522   \n",
      "544  0.117744  0.282828  0.356361    ...     0.253291  0.339286  0.242841   \n",
      "545  0.121421  0.305051  0.169545    ...     0.263963  0.454957  0.234922   \n",
      "546  0.027311  0.416667  0.253791    ...     0.118107  0.259861  0.103143   \n",
      "547  0.121173  0.307576  0.361837    ...     0.103166  0.267058  0.102943   \n",
      "548  0.047788  0.262626  0.260952    ...     0.106724  0.361674  0.093082   \n",
      "549  0.040557  0.462626  0.280539    ...     0.181430  0.517857  0.166791   \n",
      "550  0.000000  0.303535  0.200505    ...     0.132693  0.339819  0.117884   \n",
      "551  0.112177  0.489899  0.327717    ...     0.145500  0.432836  0.136411   \n",
      "552  0.074503  0.241919  0.135004    ...     0.211313  0.639126  0.187709   \n",
      "553  0.063718  0.319192  0.332772    ...     0.068125  0.347281  0.062005   \n",
      "554  0.116451  0.255556  0.149958    ...     0.212024  0.632196  0.191394   \n",
      "555  0.136083  0.269192  0.238206    ...     0.103522  0.610075  0.095423   \n",
      "556  0.055467  0.369192  0.281171    ...     0.096763  0.289446  0.087006   \n",
      "557  0.000000  0.344444  0.223884    ...     0.091071  0.592217  0.080133   \n",
      "558  0.185686  0.198990  0.242418    ...     0.268588  0.406450  0.276358   \n",
      "559  0.204026  0.165657  0.331508    ...     0.161864  0.670043  0.158723   \n",
      "560  0.213917  0.240909  0.247473    ...     0.262184  0.563699  0.247971   \n",
      "561  0.000000  0.000000  0.106571    ...     0.141942  0.700426  0.123413   \n",
      "562  0.468638  0.539394  0.454086    ...     0.341160  0.820096  0.389910   \n",
      "563  0.732604  0.550000  0.396588    ...     0.581999  0.463486  0.640918   \n",
      "564  0.690358  0.336364  0.132056    ...     0.623266  0.383262  0.576174   \n",
      "565  0.486630  0.349495  0.113100    ...     0.560655  0.699094  0.520892   \n",
      "566  0.263519  0.267677  0.137321    ...     0.393099  0.589019  0.379949   \n",
      "567  0.755467  0.675253  0.425442    ...     0.633582  0.730277  0.668310   \n",
      "568  0.000000  0.266162  0.187026    ...     0.054287  0.489072  0.043578   \n",
      "\n",
      "           23        24        25        26        27        28        29  \n",
      "0    0.450698  0.601136  0.619292  0.568610  0.912027  0.598462  0.418864  \n",
      "1    0.435214  0.347553  0.154563  0.192971  0.639175  0.233590  0.222878  \n",
      "2    0.374508  0.483590  0.385375  0.359744  0.835052  0.403706  0.213433  \n",
      "3    0.094008  0.915472  0.814012  0.548642  0.884880  1.000000  0.773711  \n",
      "4    0.341575  0.437364  0.172415  0.319489  0.558419  0.157500  0.142595  \n",
      "5    0.136748  0.712739  0.482784  0.427716  0.598282  0.477035  0.454939  \n",
      "6    0.349194  0.482269  0.223448  0.302236  0.663918  0.295289  0.187853  \n",
      "7    0.174941  0.622268  0.330753  0.213898  0.534708  0.321506  0.393939  \n",
      "8    0.136183  0.654626  0.497531  0.430511  0.707904  0.554504  0.342123  \n",
      "9    0.129326  0.753682  1.000000  0.882588  0.759450  0.552139  1.000000  \n",
      "10   0.237122  0.309912  0.124002  0.116534  0.342784  0.272620  0.193362  \n",
      "11   0.273742  0.451892  0.517711  0.316693  0.621993  0.438991  0.326381  \n",
      "12   0.281852  0.214819  0.352194  0.290655  0.607216  0.317564  0.309983  \n",
      "13   0.169903  0.276894  0.160191  0.185463  0.384536  0.245220  0.051358  \n",
      "14   0.125959  0.620287  0.723006  0.554553  0.758763  0.400355  0.577594  \n",
      "15   0.186296  0.638117  0.611627  0.561182  0.588316  0.522965  0.518562  \n",
      "16   0.234172  0.496797  0.155048  0.232748  0.552921  0.288587  0.177883  \n",
      "17   0.277674  0.711418  0.384211  0.382109  0.712371  0.422038  0.388036  \n",
      "18   0.543846  0.528495  0.279138  0.429073  0.820619  0.237138  0.138463  \n",
      "19   0.129276  0.480948  0.145540  0.190895  0.442612  0.278336  0.115112  \n",
      "20   0.109443  0.396421  0.242852  0.150958  0.250275  0.319141  0.175718  \n",
      "21   0.031877  0.404345  0.084903  0.070823  0.213986  0.174453  0.148826  \n",
      "22   0.195561  0.447930  0.551183  0.503594  0.822337  0.611473  0.291355  \n",
      "23   0.597179  0.455194  0.225776  0.251997  0.690378  0.247782  0.132625  \n",
      "24   0.498869  0.721984  0.320662  0.375000  0.719931  0.403706  0.266299  \n",
      "25   0.313557  0.550287  0.356657  0.307748  0.876289  0.493002  0.333596  \n",
      "26   0.174916  0.537080  0.618030  0.442412  0.928179  0.532032  0.475272  \n",
      "27   0.299302  0.413590  0.178916  0.275240  0.512027  0.152967  0.125738  \n",
      "28   0.266368  0.613683  0.566318  0.505990  0.695533  0.485314  0.286764  \n",
      "29   0.256046  0.358780  0.246345  0.198802  0.500344  0.234772  0.158402  \n",
      "..        ...       ...       ...       ...       ...       ...       ...  \n",
      "539  0.009438  0.583966  0.270794  0.271006  0.171821  0.241474  0.338187  \n",
      "540  0.066998  0.418213  0.179013  0.143530  0.237732  0.150601  0.172504  \n",
      "541  0.153288  0.414911  0.381203  0.322684  0.414089  0.319732  0.309983  \n",
      "542  0.157589  0.230007  0.107023  0.128674  0.376289  0.228070  0.095238  \n",
      "543  0.109221  0.237932  0.107508  0.084824  0.273471  0.178987  0.061590  \n",
      "544  0.123722  0.364723  0.171154  0.109984  0.235223  0.134831  0.195986  \n",
      "545  0.133848  0.333025  0.120703  0.083786  0.246529  0.212300  0.095041  \n",
      "546  0.049081  0.378591  0.059309  0.035016  0.081821  0.219988  0.124295  \n",
      "547  0.042322  0.494816  0.191431  0.142412  0.286357  0.221959  0.260724  \n",
      "548  0.043993  0.321799  0.066139  0.074681  0.132165  0.194559  0.158468  \n",
      "549  0.078746  0.325101  0.131958  0.049473  0.112165  0.294500  0.139184  \n",
      "550  0.055815  0.191045  0.044814  0.000000  0.000000  0.176030  0.071363  \n",
      "551  0.061787  0.247837  0.146414  0.124920  0.220378  0.316184  0.165814  \n",
      "552  0.100644  0.344912  0.076753  0.069113  0.223299  0.165977  0.064279  \n",
      "553  0.027182  0.258403  0.054031  0.063842  0.088110  0.171496  0.123901  \n",
      "554  0.100890  0.340289  0.130696  0.194808  0.223127  0.159077  0.113997  \n",
      "555  0.042371  0.443968  0.139428  0.159744  0.313643  0.130298  0.182277  \n",
      "556  0.039840  0.365383  0.089948  0.008027  0.076701  0.137394  0.081202  \n",
      "557  0.035735  0.238592  0.042970  0.000000  0.000000  0.179381  0.096091  \n",
      "558  0.134757  0.207555  0.281175  0.292492  0.379725  0.136606  0.163977  \n",
      "559  0.071028  0.387176  0.217724  0.289936  0.331718  0.107826  0.211728  \n",
      "560  0.128170  0.349534  0.193178  0.105911  0.360137  0.135029  0.184770  \n",
      "561  0.062525  0.141980  0.026826  0.000000  0.000000  0.000197  0.026302  \n",
      "562  0.179365  0.465760  0.741634  0.934505  0.809622  0.497536  0.563164  \n",
      "563  0.401543  0.459156  0.379651  0.527077  0.873540  0.268874  0.286567  \n",
      "564  0.452664  0.461137  0.178527  0.328035  0.761512  0.097575  0.105667  \n",
      "565  0.379915  0.300007  0.159997  0.256789  0.559450  0.198502  0.074315  \n",
      "566  0.230731  0.282177  0.273705  0.271805  0.487285  0.128721  0.151909  \n",
      "567  0.402035  0.619626  0.815758  0.749760  0.910653  0.497142  0.452315  \n",
      "568  0.020497  0.124084  0.036043  0.000000  0.000000  0.257441  0.100682  \n",
      "\n",
      "[569 rows x 30 columns]\n"
     ]
    },
    {
     "data": {
      "text/html": [
       "<div>\n",
       "<style scoped>\n",
       "    .dataframe tbody tr th:only-of-type {\n",
       "        vertical-align: middle;\n",
       "    }\n",
       "\n",
       "    .dataframe tbody tr th {\n",
       "        vertical-align: top;\n",
       "    }\n",
       "\n",
       "    .dataframe thead th {\n",
       "        text-align: right;\n",
       "    }\n",
       "</style>\n",
       "<table border=\"1\" class=\"dataframe\">\n",
       "  <thead>\n",
       "    <tr style=\"text-align: right;\">\n",
       "      <th></th>\n",
       "      <th>0</th>\n",
       "      <th>1</th>\n",
       "      <th>2</th>\n",
       "      <th>3</th>\n",
       "      <th>4</th>\n",
       "      <th>5</th>\n",
       "      <th>6</th>\n",
       "      <th>7</th>\n",
       "      <th>8</th>\n",
       "      <th>9</th>\n",
       "      <th>...</th>\n",
       "      <th>20</th>\n",
       "      <th>21</th>\n",
       "      <th>22</th>\n",
       "      <th>23</th>\n",
       "      <th>24</th>\n",
       "      <th>25</th>\n",
       "      <th>26</th>\n",
       "      <th>27</th>\n",
       "      <th>28</th>\n",
       "      <th>29</th>\n",
       "    </tr>\n",
       "  </thead>\n",
       "  <tbody>\n",
       "    <tr>\n",
       "      <th>count</th>\n",
       "      <td>569.000000</td>\n",
       "      <td>569.000000</td>\n",
       "      <td>569.000000</td>\n",
       "      <td>569.000000</td>\n",
       "      <td>569.000000</td>\n",
       "      <td>569.000000</td>\n",
       "      <td>569.000000</td>\n",
       "      <td>569.000000</td>\n",
       "      <td>569.000000</td>\n",
       "      <td>569.000000</td>\n",
       "      <td>...</td>\n",
       "      <td>569.000000</td>\n",
       "      <td>569.000000</td>\n",
       "      <td>569.000000</td>\n",
       "      <td>569.000000</td>\n",
       "      <td>569.000000</td>\n",
       "      <td>569.000000</td>\n",
       "      <td>569.000000</td>\n",
       "      <td>569.000000</td>\n",
       "      <td>569.000000</td>\n",
       "      <td>569.000000</td>\n",
       "    </tr>\n",
       "    <tr>\n",
       "      <th>mean</th>\n",
       "      <td>0.338222</td>\n",
       "      <td>0.323965</td>\n",
       "      <td>0.332935</td>\n",
       "      <td>0.216920</td>\n",
       "      <td>0.394785</td>\n",
       "      <td>0.260601</td>\n",
       "      <td>0.208058</td>\n",
       "      <td>0.243137</td>\n",
       "      <td>0.379605</td>\n",
       "      <td>0.270379</td>\n",
       "      <td>...</td>\n",
       "      <td>0.296663</td>\n",
       "      <td>0.363998</td>\n",
       "      <td>0.283138</td>\n",
       "      <td>0.170906</td>\n",
       "      <td>0.404138</td>\n",
       "      <td>0.220212</td>\n",
       "      <td>0.217403</td>\n",
       "      <td>0.393836</td>\n",
       "      <td>0.263307</td>\n",
       "      <td>0.189596</td>\n",
       "    </tr>\n",
       "    <tr>\n",
       "      <th>std</th>\n",
       "      <td>0.166787</td>\n",
       "      <td>0.145453</td>\n",
       "      <td>0.167915</td>\n",
       "      <td>0.149274</td>\n",
       "      <td>0.126967</td>\n",
       "      <td>0.161992</td>\n",
       "      <td>0.186785</td>\n",
       "      <td>0.192857</td>\n",
       "      <td>0.138456</td>\n",
       "      <td>0.148702</td>\n",
       "      <td>...</td>\n",
       "      <td>0.171940</td>\n",
       "      <td>0.163813</td>\n",
       "      <td>0.167352</td>\n",
       "      <td>0.139932</td>\n",
       "      <td>0.150779</td>\n",
       "      <td>0.152649</td>\n",
       "      <td>0.166633</td>\n",
       "      <td>0.225884</td>\n",
       "      <td>0.121954</td>\n",
       "      <td>0.118466</td>\n",
       "    </tr>\n",
       "    <tr>\n",
       "      <th>min</th>\n",
       "      <td>0.000000</td>\n",
       "      <td>0.000000</td>\n",
       "      <td>0.000000</td>\n",
       "      <td>0.000000</td>\n",
       "      <td>0.000000</td>\n",
       "      <td>0.000000</td>\n",
       "      <td>0.000000</td>\n",
       "      <td>0.000000</td>\n",
       "      <td>0.000000</td>\n",
       "      <td>0.000000</td>\n",
       "      <td>...</td>\n",
       "      <td>0.000000</td>\n",
       "      <td>0.000000</td>\n",
       "      <td>0.000000</td>\n",
       "      <td>0.000000</td>\n",
       "      <td>0.000000</td>\n",
       "      <td>0.000000</td>\n",
       "      <td>0.000000</td>\n",
       "      <td>0.000000</td>\n",
       "      <td>0.000000</td>\n",
       "      <td>0.000000</td>\n",
       "    </tr>\n",
       "    <tr>\n",
       "      <th>25%</th>\n",
       "      <td>0.223342</td>\n",
       "      <td>0.218465</td>\n",
       "      <td>0.216847</td>\n",
       "      <td>0.117413</td>\n",
       "      <td>0.304595</td>\n",
       "      <td>0.139685</td>\n",
       "      <td>0.069260</td>\n",
       "      <td>0.100944</td>\n",
       "      <td>0.282323</td>\n",
       "      <td>0.163016</td>\n",
       "      <td>...</td>\n",
       "      <td>0.180719</td>\n",
       "      <td>0.241471</td>\n",
       "      <td>0.167837</td>\n",
       "      <td>0.081130</td>\n",
       "      <td>0.300007</td>\n",
       "      <td>0.116337</td>\n",
       "      <td>0.091454</td>\n",
       "      <td>0.223127</td>\n",
       "      <td>0.185098</td>\n",
       "      <td>0.107700</td>\n",
       "    </tr>\n",
       "    <tr>\n",
       "      <th>50%</th>\n",
       "      <td>0.302381</td>\n",
       "      <td>0.308759</td>\n",
       "      <td>0.293345</td>\n",
       "      <td>0.172895</td>\n",
       "      <td>0.390358</td>\n",
       "      <td>0.224679</td>\n",
       "      <td>0.144189</td>\n",
       "      <td>0.166501</td>\n",
       "      <td>0.369697</td>\n",
       "      <td>0.243892</td>\n",
       "      <td>...</td>\n",
       "      <td>0.250445</td>\n",
       "      <td>0.356876</td>\n",
       "      <td>0.235320</td>\n",
       "      <td>0.123206</td>\n",
       "      <td>0.397081</td>\n",
       "      <td>0.179110</td>\n",
       "      <td>0.181070</td>\n",
       "      <td>0.343402</td>\n",
       "      <td>0.247782</td>\n",
       "      <td>0.163977</td>\n",
       "    </tr>\n",
       "    <tr>\n",
       "      <th>75%</th>\n",
       "      <td>0.416442</td>\n",
       "      <td>0.408860</td>\n",
       "      <td>0.416765</td>\n",
       "      <td>0.271135</td>\n",
       "      <td>0.475490</td>\n",
       "      <td>0.340531</td>\n",
       "      <td>0.306232</td>\n",
       "      <td>0.367793</td>\n",
       "      <td>0.453030</td>\n",
       "      <td>0.340354</td>\n",
       "      <td>...</td>\n",
       "      <td>0.386339</td>\n",
       "      <td>0.471748</td>\n",
       "      <td>0.373475</td>\n",
       "      <td>0.220901</td>\n",
       "      <td>0.494156</td>\n",
       "      <td>0.302520</td>\n",
       "      <td>0.305831</td>\n",
       "      <td>0.554639</td>\n",
       "      <td>0.318155</td>\n",
       "      <td>0.242949</td>\n",
       "    </tr>\n",
       "    <tr>\n",
       "      <th>max</th>\n",
       "      <td>1.000000</td>\n",
       "      <td>1.000000</td>\n",
       "      <td>1.000000</td>\n",
       "      <td>1.000000</td>\n",
       "      <td>1.000000</td>\n",
       "      <td>1.000000</td>\n",
       "      <td>1.000000</td>\n",
       "      <td>1.000000</td>\n",
       "      <td>1.000000</td>\n",
       "      <td>1.000000</td>\n",
       "      <td>...</td>\n",
       "      <td>1.000000</td>\n",
       "      <td>1.000000</td>\n",
       "      <td>1.000000</td>\n",
       "      <td>1.000000</td>\n",
       "      <td>1.000000</td>\n",
       "      <td>1.000000</td>\n",
       "      <td>1.000000</td>\n",
       "      <td>1.000000</td>\n",
       "      <td>1.000000</td>\n",
       "      <td>1.000000</td>\n",
       "    </tr>\n",
       "  </tbody>\n",
       "</table>\n",
       "<p>8 rows × 30 columns</p>\n",
       "</div>"
      ],
      "text/plain": [
       "               0           1           2           3           4           5   \\\n",
       "count  569.000000  569.000000  569.000000  569.000000  569.000000  569.000000   \n",
       "mean     0.338222    0.323965    0.332935    0.216920    0.394785    0.260601   \n",
       "std      0.166787    0.145453    0.167915    0.149274    0.126967    0.161992   \n",
       "min      0.000000    0.000000    0.000000    0.000000    0.000000    0.000000   \n",
       "25%      0.223342    0.218465    0.216847    0.117413    0.304595    0.139685   \n",
       "50%      0.302381    0.308759    0.293345    0.172895    0.390358    0.224679   \n",
       "75%      0.416442    0.408860    0.416765    0.271135    0.475490    0.340531   \n",
       "max      1.000000    1.000000    1.000000    1.000000    1.000000    1.000000   \n",
       "\n",
       "               6           7           8           9      ...              20  \\\n",
       "count  569.000000  569.000000  569.000000  569.000000     ...      569.000000   \n",
       "mean     0.208058    0.243137    0.379605    0.270379     ...        0.296663   \n",
       "std      0.186785    0.192857    0.138456    0.148702     ...        0.171940   \n",
       "min      0.000000    0.000000    0.000000    0.000000     ...        0.000000   \n",
       "25%      0.069260    0.100944    0.282323    0.163016     ...        0.180719   \n",
       "50%      0.144189    0.166501    0.369697    0.243892     ...        0.250445   \n",
       "75%      0.306232    0.367793    0.453030    0.340354     ...        0.386339   \n",
       "max      1.000000    1.000000    1.000000    1.000000     ...        1.000000   \n",
       "\n",
       "               21          22          23          24          25          26  \\\n",
       "count  569.000000  569.000000  569.000000  569.000000  569.000000  569.000000   \n",
       "mean     0.363998    0.283138    0.170906    0.404138    0.220212    0.217403   \n",
       "std      0.163813    0.167352    0.139932    0.150779    0.152649    0.166633   \n",
       "min      0.000000    0.000000    0.000000    0.000000    0.000000    0.000000   \n",
       "25%      0.241471    0.167837    0.081130    0.300007    0.116337    0.091454   \n",
       "50%      0.356876    0.235320    0.123206    0.397081    0.179110    0.181070   \n",
       "75%      0.471748    0.373475    0.220901    0.494156    0.302520    0.305831   \n",
       "max      1.000000    1.000000    1.000000    1.000000    1.000000    1.000000   \n",
       "\n",
       "               27          28          29  \n",
       "count  569.000000  569.000000  569.000000  \n",
       "mean     0.393836    0.263307    0.189596  \n",
       "std      0.225884    0.121954    0.118466  \n",
       "min      0.000000    0.000000    0.000000  \n",
       "25%      0.223127    0.185098    0.107700  \n",
       "50%      0.343402    0.247782    0.163977  \n",
       "75%      0.554639    0.318155    0.242949  \n",
       "max      1.000000    1.000000    1.000000  \n",
       "\n",
       "[8 rows x 30 columns]"
      ]
     },
     "execution_count": 10,
     "metadata": {},
     "output_type": "execute_result"
    },
    {
     "data": {
      "image/png": "[encoded data removed]",
      "text/plain": [
       "<Figure size 432x288 with 1 Axes>"
      ]
     },
     "metadata": {
      "needs_background": "light"
     },
     "output_type": "display_data"
    }
   ],
   "source": [
    "# Insert your own code visualization/analysis here.\n",
    "# Try to come up with a method that you can use to determine whether your data requires any sort of standarisation.data\n",
    "from sklearn import preprocessing\n",
    "data = cancer.data\n",
    "df = pd.DataFrame(data)\n",
    "datadescribtion = df.describe()\n",
    "print(datadescribtion)\n",
    "df.boxplot()\n",
    "# applying stndard deviationn on data to normalize it \n",
    "\n",
    "min_max_scaler = preprocessing.MinMaxScaler()\n",
    "np_scaled = min_max_scaler.fit_transform(df)\n",
    "df_normalized = pd.DataFrame(np_scaled)\n",
    "print(df_normalized)\n",
    "df_normalized.describe()\n"
   ]
  },
  {
   "cell_type": "markdown",
   "metadata": {},
   "source": [
    "## Learning and predicting\n",
    "In the case of the breast cancer dataset, the task is to predict, given some features, whether the tumor is benign or malign. We are given samples of each case, and with these samples we fit an estimator to be able to predict the classes to which unseen samples belong.\n",
    "\n",
    "In scikit-learn, an estimator for classification is a Python object that implements the methods `fit(X, y)` and `predict(T)`.\n",
    "\n",
    "An example of an estimator is the class `sklearn.svm.SVC` that implements support vector classification. The constructor of an estimator takes as arguments the parameters of the model, but for the time being, we will consider the estimator as a black box:"
   ]
  },
  {
   "cell_type": "code",
   "execution_count": 12,
   "metadata": {},
   "outputs": [],
   "source": [
    "from sklearn import svm\n",
    "\n",
    "clf = svm.SVC(gamma=0.0001, C=100.)"
   ]
  },
  {
   "cell_type": "markdown",
   "metadata": {},
   "source": [
    "We call our estimator instance `clf`, as it is a classifier. **It now must be fitted to the model, that is, it must learn from the data**. This is done by passing our training set to the `fit` method. As a training set, let us use all the examples of our dataset except for the last one. We select this training set with the `[:-1]` Python syntax, which produces a new array that contains **all but the last entry** of `cancer.data`:"
   ]
  },
  {
   "cell_type": "code",
   "execution_count": 13,
   "metadata": {},
   "outputs": [
    {
     "data": {
      "text/plain": [
       "SVC(C=100.0, cache_size=200, class_weight=None, coef0=0.0,\n",
       "  decision_function_shape='ovr', degree=3, gamma=0.0001, kernel='rbf',\n",
       "  max_iter=-1, probability=False, random_state=None, shrinking=True,\n",
       "  tol=0.001, verbose=False)"
      ]
     },
     "execution_count": 13,
     "metadata": {},
     "output_type": "execute_result"
    }
   ],
   "source": [
    "clf.fit(cancer.data[:-1], cancer.target[:-1])"
   ]
  },
  {
   "cell_type": "markdown",
   "metadata": {},
   "source": [
    "Now you can predict new values, in particular, we can ask to the classifier whether the tumor from the last example is benign or not. **Remember that this patient was NOT used to train the classifier**:"
   ]
  },
  {
   "cell_type": "code",
   "execution_count": 19,
   "metadata": {},
   "outputs": [
    {
     "data": {
      "text/plain": [
       "array([0])"
      ]
     },
     "execution_count": 19,
     "metadata": {},
     "output_type": "execute_result"
    }
   ],
   "source": [
    "Xtest = df_normalized[-1:]\n",
    "clf.predict(Xtest)##Insert code here"
   ]
  },
  {
   "cell_type": "markdown",
   "metadata": {},
   "source": [
    "We can also check what the real label for this patient was:"
   ]
  },
  {
   "cell_type": "code",
   "execution_count": null,
   "metadata": {},
   "outputs": [],
   "source": [
    "#Insert code here\n"
   ]
  },
  {
   "cell_type": "markdown",
   "metadata": {},
   "source": [
    "Can you print the actual raw values of the 30 features for this patient?"
   ]
  },
  {
   "cell_type": "code",
   "execution_count": null,
   "metadata": {},
   "outputs": [],
   "source": [
    "#Insert code here"
   ]
  },
  {
   "cell_type": "code",
   "execution_count": null,
   "metadata": {},
   "outputs": [],
   "source": [
    "from sklearn.metrics import confusion_matrix\n",
    "import itertools\n",
    "\n",
    "def plot_confusion_matrix(cm, classes,\n",
    "                          normalize=False,\n",
    "                          title='Confusion matrix',\n",
    "                          cmap=plt.cm.Blues):\n",
    "    \"\"\"\n",
    "    This function prints and plots the confusion matrix.\n",
    "    Normalization can be applied by setting `normalize=True`.\n",
    "    \"\"\"\n",
    "    plt.imshow(cm, interpolation='nearest', cmap=cmap)\n",
    "    plt.title(title)\n",
    "    plt.colorbar()\n",
    "    tick_marks = np.arange(len(classes))\n",
    "    plt.xticks(tick_marks, classes, rotation=45)\n",
    "    plt.yticks(tick_marks, classes)\n",
    "\n",
    "    if normalize:\n",
    "        cm = cm.astype('float') / cm.sum(axis=1)[:, np.newaxis]\n",
    "        print(\"Normalized confusion matrix\")\n",
    "    else:\n",
    "        print('Confusion matrix, without normalization')\n",
    "\n",
    "    thresh = cm.max() / 2.\n",
    "    for i, j in itertools.product(range(cm.shape[0]), range(cm.shape[1])):\n",
    "        t = \"(%.2f)\"%(cm[i, j])\n",
    "        #print t\n",
    "#         plt.text(j, i, t,\n",
    "#                  horizontalalignment=\"center\",\n",
    "#                  color=\"white\" if cm[i, j] > thresh else \"black\")\n",
    "\n",
    "    plt.tight_layout()\n",
    "    plt.ylabel('True label')\n",
    "    plt.xlabel('Predicted label')\n",
    "\n"
   ]
  },
  {
   "cell_type": "code",
   "execution_count": null,
   "metadata": {},
   "outputs": [],
   "source": [
    "# Compute confusion matrix\n",
    "y_pred = clf.predict(cancer.data)\n",
    "cnf_matrix = confusion_matrix(cancer.target, y_pred)\n",
    "np.set_printoptions(precision=2)\n",
    "\n",
    "# Plot non-normalized confusion matrix\n",
    "plt.figure()\n",
    "plot_confusion_matrix(cnf_matrix, classes=range(len(set(cancer.target))), normalize = False,\n",
    "                      title='Confusion matrix')\n",
    "\n",
    "#plt.savefig(\"confusion.png\",bbox_inches='tight')\n",
    "#plt.savefig(\"confusion.pdf\",bbox_inches='tight')"
   ]
  },
  {
   "cell_type": "markdown",
   "metadata": {},
   "source": [
    "What are the most common types of errors?"
   ]
  },
  {
   "cell_type": "markdown",
   "metadata": {},
   "source": [
    "## Cross-validation\n",
    "**Learning the parameters of a prediction function and testing it on the same data is a methodological mistake**: a model that would just repeat the labels of the samples that it has just seen would have a perfect score but would fail to predict anything useful on yet-unseen data. This situation is called **overfitting**. To avoid it, it is common practice when performing a (supervised) machine learning experiment to hold out part of the available data as a test set `X_test`, `y_test`."
   ]
  },
  {
   "cell_type": "markdown",
   "metadata": {},
   "source": [
    "Scikit-learn has a collection of classes which can be used to generate lists of train/test indices for popular cross-validation strategies.\n",
    "\n",
    "They expose a `split` method which accepts the input dataset to be split and yields the train/test set indices for each iteration of the chosen cross-validation strategy.\n",
    "\n",
    "Let's try with a smaller subset of the `cancer` dataset."
   ]
  },
  {
   "cell_type": "code",
   "execution_count": null,
   "metadata": {},
   "outputs": [],
   "source": [
    "from sklearn.model_selection import KFold, cross_val_score\n",
    "\n",
    "clf = svm.SVC(gamma=0.0001, C=100.)\n",
    "k_fold = KFold(n_splits=5)\n",
    "for train_indices, test_indices in k_fold.split(cancer.data[:40]): # consider the first 40 examples\n",
    "    print('Train: %s | test: %s' % (train_indices, test_indices))\n",
    "    clf.fit(cancer.data[train_indices], cancer.target[train_indices])\n",
    "    print('Fold test accuracy: {} %'.format(clf.score(cancer.data[test_indices], cancer.target[test_indices])*100))"
   ]
  },
  {
   "cell_type": "markdown",
   "metadata": {},
   "source": [
    "Let's now try with the whole dataset."
   ]
  },
  {
   "cell_type": "code",
   "execution_count": null,
   "metadata": {},
   "outputs": [],
   "source": [
    "score = []\n",
    "clf = svm.SVC(gamma=0.0001, C=100.)\n",
    "k_fold = KFold(n_splits=10)\n",
    "for train_indices, test_indices in k_fold.split(cancer.data):\n",
    "    clf.fit(cancer.data[train_indices], cancer.target[train_indices])\n",
    "    score.append(clf.score(cancer.data[test_indices], cancer.target[test_indices]))\n",
    "print('Average accuracy: {} %'.format(np.mean(score)*100))"
   ]
  },
  {
   "cell_type": "markdown",
   "metadata": {},
   "source": [
    "As a shortcut, we can use `cross_val_score` for the same purposes."
   ]
  },
  {
   "cell_type": "code",
   "execution_count": null,
   "metadata": {},
   "outputs": [],
   "source": [
    "score_2 = cross_val_score(clf, cancer.data, cancer.target, cv=k_fold, n_jobs=-1)\n",
    "print('Average accuracy: {} %'.format(np.mean(score_2)*100))"
   ]
  },
  {
   "cell_type": "markdown",
   "metadata": {},
   "source": [
    "## Grid-search\n",
    "\n",
    "Scikit-learn provides an object that, given data, computes the score during the fit of an estimator on a parameter grid and chooses the parameters to maximize the cross-validation score. This object takes an estimator during the construction and exposes an estimator API:"
   ]
  },
  {
   "cell_type": "code",
   "execution_count": null,
   "metadata": {},
   "outputs": [],
   "source": [
    "from sklearn.model_selection import GridSearchCV\n",
    "\n",
    "clf = svm.SVC(gamma=0.01, C=10.)\n",
    "Cs = np.logspace(-1, 3, 9)\n",
    "Gs = np.logspace(-7, -0, 8)\n",
    "clf = GridSearchCV(estimator=clf, param_grid=dict(C=Cs, gamma=Gs), n_jobs=-1)\n",
    "\n",
    "score = []\n",
    "k_fold = KFold(n_splits=5)\n",
    "for train_indices, test_indices in k_fold.split(cancer.data):\n",
    "    clf.fit(cancer.data[train_indices], cancer.target[train_indices])\n",
    "    score.append(clf.score(cancer.data[test_indices], cancer.target[test_indices]))\n",
    "    print('Best C:', clf.best_estimator_.C,\n",
    "          'Best gamma:', clf.best_estimator_.gamma,\n",
    "          'Fold test accuracy:', score[-1])\n",
    "print('Average accuracy: {} %'.format(np.mean(score)*100))"
   ]
  },
  {
   "cell_type": "code",
   "execution_count": null,
   "metadata": {},
   "outputs": [],
   "source": [
    "# Grid results for last fold\n",
    "scores = clf.cv_results_['mean_test_score'].reshape(len(Cs), len(Gs))\n",
    "extent = np.log10([Gs[0], Gs[-1], Cs[0], Cs[-1]])\n",
    "\n",
    "%matplotlib inline\n",
    "import numpy as np\n",
    "from matplotlib import pyplot as plt\n",
    "\n",
    "im = plt.imshow(scores, extent=extent, origin='lower')\n",
    "plt.colorbar(im)\n",
    "plt.contour(np.log10(Gs), np.log10(Cs), scores)\n",
    "plt.xlabel('log(C)')\n",
    "plt.ylabel('log(gamma)')"
   ]
  },
  {
   "cell_type": "markdown",
   "metadata": {
    "collapsed": true
   },
   "source": [
    "## Decision Trees"
   ]
  },
  {
   "cell_type": "markdown",
   "metadata": {},
   "source": [
    "We can now try to use a different classifier. For example, we will now try a Decision tree."
   ]
  },
  {
   "cell_type": "code",
   "execution_count": null,
   "metadata": {},
   "outputs": [],
   "source": [
    "from sklearn import tree\n",
    "from sklearn.ensemble import RandomForestClassifier\n",
    "\n",
    "\n",
    "k_fold = KFold(n_splits=10)\n",
    "#clf = tree.DecisionTreeClassifier(criterion = \"entropy\")\n",
    "clf = RandomForestClassifier(n_estimators = 2000,max_depth = 4)\n",
    "score_tree = cross_val_score(clf, cancer.data, cancer.target, cv=k_fold, n_jobs=-1)\n",
    "print('Average accuracy:', np.mean(score_tree))\n",
    "\n",
    "# Now fit the tree\n",
    " # TODO: insert code here"
   ]
  },
  {
   "cell_type": "markdown",
   "metadata": {},
   "source": [
    "Now check the new confusion matrix."
   ]
  },
  {
   "cell_type": "code",
   "execution_count": null,
   "metadata": {},
   "outputs": [],
   "source": [
    "# TODO: insert code here"
   ]
  },
  {
   "cell_type": "markdown",
   "metadata": {},
   "source": [
    "We can look at what are the most important features from our dataset according to the decision tree classifier"
   ]
  },
  {
   "cell_type": "code",
   "execution_count": null,
   "metadata": {},
   "outputs": [],
   "source": [
    "importances = clf.feature_importances_\n",
    "std = np.std([tree.feature_importances_ for tree in clf.estimators_], axis=0)\n",
    "indices = np.argsort(importances)[::-1]\n",
    "print(indices)\n",
    "# Print the feature ranking\n",
    "print(\"Feature ranking:\")\n",
    "\n",
    "for f in range(n_features):\n",
    "    print(\"%d. %s (%f)\" % (f + 1, cancer.feature_names[indices[f]],  importances[indices[f]]))\n",
    "\n",
    "# Plot the feature importances of the forest\n",
    "fig = plt.figure()\n",
    "plt.title(\"Feature importances\")  # just the top 10 features\n",
    "num_feat_to_plot = 10\n",
    "plt.bar(range(num_feat_to_plot), importances[indices[:num_feat_to_plot]],\n",
    "       color=\"r\", yerr=std[indices[:num_feat_to_plot]], align=\"center\")\n",
    "plt.xticks(range(num_feat_to_plot), np.array(cancer.feature_names)[indices[:num_feat_to_plot]])\n",
    "plt.xlim([-1, num_feat_to_plot])\n",
    "fig.set_size_inches(15,8)\n",
    "axes = plt.gca()\n",
    "axes.set_ylim([0,None])\n",
    "\n",
    "#plt.savefig(\"importances.png\",bbox_inches='tight')\n",
    "#plt.savefig(\"importances.pdf\",bbox_inches='tight')"
   ]
  },
  {
   "cell_type": "markdown",
   "metadata": {},
   "source": [
    "Now plot the distributions of values of the top 5 features. Are there any relationships between them? You can use functions from seaborn such as distplot or jointplot to look at this."
   ]
  },
  {
   "cell_type": "markdown",
   "metadata": {},
   "source": [
    "# Standardisation"
   ]
  },
  {
   "cell_type": "markdown",
   "metadata": {},
   "source": [
    "Did you figure out whether your data should be standardised? If so, play with different methods from the sklearn library.\n",
    "You can get some ideas from here: https://scikit-learn.org/stable/modules/preprocessing.html\n",
    "\n",
    "Make sure your data still looks OK before attempting to re-train a classifier."
   ]
  },
  {
   "cell_type": "code",
   "execution_count": null,
   "metadata": {},
   "outputs": [],
   "source": []
  },
  {
   "cell_type": "markdown",
   "metadata": {},
   "source": [
    "After you've standardised your data (if required), try to fit an SVM classifier again. Is the performance affected by this processing?"
   ]
  },
  {
   "cell_type": "code",
   "execution_count": null,
   "metadata": {},
   "outputs": [],
   "source": []
  }
 ],
 "metadata": {
  "kernelspec": {
   "display_name": "Python 3",
   "language": "python",
   "name": "python3"
  },
  "language_info": {
   "codemirror_mode": {
    "name": "ipython",
    "version": 3
   },
   "file_extension": ".py",
   "mimetype": "text/x-python",
   "name": "python",
   "nbconvert_exporter": "python",
   "pygments_lexer": "ipython3",
   "version": "3.7.1"
  }
 },
 "nbformat": 4,
 "nbformat_minor": 2
}
